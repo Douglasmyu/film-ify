{
 "cells": [
  {
   "cell_type": "code",
   "execution_count": 1,
   "id": "5e5b3286-3c2c-44bb-846d-7295fecae29d",
   "metadata": {},
   "outputs": [],
   "source": [
    "import numpy as np\n",
    "import pandas as pd\n",
    "import os\n",
    "import sys\n",
    "import getpass\n",
    "import matplotlib.pyplot as plt"
   ]
  },
  {
   "cell_type": "code",
   "execution_count": 2,
   "id": "37c8d205-4606-4aac-a78a-ea9524a112dc",
   "metadata": {},
   "outputs": [],
   "source": [
    "credits_df = pd.read_csv(\"credits.csv\")\n",
    "movies_df = pd.read_csv(\"movies.csv\")\n",
    "imdb_df = pd.read_csv(\"movie_metadata.csv\")\n",
    "\n",
    "# credits_df"
   ]
  },
  {
   "cell_type": "code",
   "execution_count": 3,
   "id": "66567aba-2747-4a37-9305-4a0346e58188",
   "metadata": {},
   "outputs": [],
   "source": [
    "# imdb_df"
   ]
  },
  {
   "cell_type": "code",
   "execution_count": 4,
   "id": "c2f97ae5-cb1f-42f6-a93d-11b7f4c11553",
   "metadata": {},
   "outputs": [],
   "source": [
    "# pd.set_option(\"display.max_columns\", None)\n",
    "# pd.set_option(\"display.max_rows\", None)"
   ]
  },
  {
   "cell_type": "code",
   "execution_count": 5,
   "id": "ee65a374-d271-4bdb-b6fa-1ec5942cf6cc",
   "metadata": {},
   "outputs": [],
   "source": [
    "# imdb_df"
   ]
  },
  {
   "cell_type": "code",
   "execution_count": 6,
   "id": "11770bf2-f696-4296-b4e6-3acdb88092c7",
   "metadata": {},
   "outputs": [],
   "source": [
    "imdb_df = imdb_df.merge(imdb_df, on = \"movie_title\")"
   ]
  },
  {
   "cell_type": "code",
   "execution_count": 7,
   "id": "35180469-c7e0-41a1-913e-85cf061b9a2b",
   "metadata": {},
   "outputs": [
    {
     "data": {
      "text/plain": [
       "(5309, 55)"
      ]
     },
     "execution_count": 7,
     "metadata": {},
     "output_type": "execute_result"
    }
   ],
   "source": [
    "imdb_df.shape"
   ]
  },
  {
   "cell_type": "code",
   "execution_count": 8,
   "id": "b1c5072a-c3b3-4900-bbca-42bb6d0c2806",
   "metadata": {
    "scrolled": true
   },
   "outputs": [
    {
     "data": {
      "text/html": [
       "<div>\n",
       "<style scoped>\n",
       "    .dataframe tbody tr th:only-of-type {\n",
       "        vertical-align: middle;\n",
       "    }\n",
       "\n",
       "    .dataframe tbody tr th {\n",
       "        vertical-align: top;\n",
       "    }\n",
       "\n",
       "    .dataframe thead th {\n",
       "        text-align: right;\n",
       "    }\n",
       "</style>\n",
       "<table border=\"1\" class=\"dataframe\">\n",
       "  <thead>\n",
       "    <tr style=\"text-align: right;\">\n",
       "      <th></th>\n",
       "      <th>color_x</th>\n",
       "      <th>director_name_x</th>\n",
       "      <th>num_critic_for_reviews_x</th>\n",
       "      <th>duration_x</th>\n",
       "      <th>director_facebook_likes_x</th>\n",
       "      <th>actor_3_facebook_likes_x</th>\n",
       "      <th>actor_2_name_x</th>\n",
       "      <th>actor_1_facebook_likes_x</th>\n",
       "      <th>gross_x</th>\n",
       "      <th>genres_x</th>\n",
       "      <th>...</th>\n",
       "      <th>num_user_for_reviews_y</th>\n",
       "      <th>language_y</th>\n",
       "      <th>country_y</th>\n",
       "      <th>content_rating_y</th>\n",
       "      <th>budget_y</th>\n",
       "      <th>title_year_y</th>\n",
       "      <th>actor_2_facebook_likes_y</th>\n",
       "      <th>imdb_score_y</th>\n",
       "      <th>aspect_ratio_y</th>\n",
       "      <th>movie_facebook_likes_y</th>\n",
       "    </tr>\n",
       "  </thead>\n",
       "  <tbody>\n",
       "    <tr>\n",
       "      <th>0</th>\n",
       "      <td>Color</td>\n",
       "      <td>James Cameron</td>\n",
       "      <td>723.0</td>\n",
       "      <td>178.0</td>\n",
       "      <td>0.0</td>\n",
       "      <td>855.0</td>\n",
       "      <td>Joel David Moore</td>\n",
       "      <td>1000.0</td>\n",
       "      <td>760505847.0</td>\n",
       "      <td>Action|Adventure|Fantasy|Sci-Fi</td>\n",
       "      <td>...</td>\n",
       "      <td>3054.0</td>\n",
       "      <td>English</td>\n",
       "      <td>USA</td>\n",
       "      <td>PG-13</td>\n",
       "      <td>237000000.0</td>\n",
       "      <td>2009.0</td>\n",
       "      <td>936.0</td>\n",
       "      <td>7.9</td>\n",
       "      <td>1.78</td>\n",
       "      <td>33000</td>\n",
       "    </tr>\n",
       "    <tr>\n",
       "      <th>1</th>\n",
       "      <td>Color</td>\n",
       "      <td>Gore Verbinski</td>\n",
       "      <td>302.0</td>\n",
       "      <td>169.0</td>\n",
       "      <td>563.0</td>\n",
       "      <td>1000.0</td>\n",
       "      <td>Orlando Bloom</td>\n",
       "      <td>40000.0</td>\n",
       "      <td>309404152.0</td>\n",
       "      <td>Action|Adventure|Fantasy</td>\n",
       "      <td>...</td>\n",
       "      <td>1238.0</td>\n",
       "      <td>English</td>\n",
       "      <td>USA</td>\n",
       "      <td>PG-13</td>\n",
       "      <td>300000000.0</td>\n",
       "      <td>2007.0</td>\n",
       "      <td>5000.0</td>\n",
       "      <td>7.1</td>\n",
       "      <td>2.35</td>\n",
       "      <td>0</td>\n",
       "    </tr>\n",
       "    <tr>\n",
       "      <th>2</th>\n",
       "      <td>Color</td>\n",
       "      <td>Sam Mendes</td>\n",
       "      <td>602.0</td>\n",
       "      <td>148.0</td>\n",
       "      <td>0.0</td>\n",
       "      <td>161.0</td>\n",
       "      <td>Rory Kinnear</td>\n",
       "      <td>11000.0</td>\n",
       "      <td>200074175.0</td>\n",
       "      <td>Action|Adventure|Thriller</td>\n",
       "      <td>...</td>\n",
       "      <td>994.0</td>\n",
       "      <td>English</td>\n",
       "      <td>UK</td>\n",
       "      <td>PG-13</td>\n",
       "      <td>245000000.0</td>\n",
       "      <td>2015.0</td>\n",
       "      <td>393.0</td>\n",
       "      <td>6.8</td>\n",
       "      <td>2.35</td>\n",
       "      <td>85000</td>\n",
       "    </tr>\n",
       "    <tr>\n",
       "      <th>3</th>\n",
       "      <td>Color</td>\n",
       "      <td>Christopher Nolan</td>\n",
       "      <td>813.0</td>\n",
       "      <td>164.0</td>\n",
       "      <td>22000.0</td>\n",
       "      <td>23000.0</td>\n",
       "      <td>Christian Bale</td>\n",
       "      <td>27000.0</td>\n",
       "      <td>448130642.0</td>\n",
       "      <td>Action|Thriller</td>\n",
       "      <td>...</td>\n",
       "      <td>2701.0</td>\n",
       "      <td>English</td>\n",
       "      <td>USA</td>\n",
       "      <td>PG-13</td>\n",
       "      <td>250000000.0</td>\n",
       "      <td>2012.0</td>\n",
       "      <td>23000.0</td>\n",
       "      <td>8.5</td>\n",
       "      <td>2.35</td>\n",
       "      <td>164000</td>\n",
       "    </tr>\n",
       "    <tr>\n",
       "      <th>4</th>\n",
       "      <td>NaN</td>\n",
       "      <td>Doug Walker</td>\n",
       "      <td>NaN</td>\n",
       "      <td>NaN</td>\n",
       "      <td>131.0</td>\n",
       "      <td>NaN</td>\n",
       "      <td>Rob Walker</td>\n",
       "      <td>131.0</td>\n",
       "      <td>NaN</td>\n",
       "      <td>Documentary</td>\n",
       "      <td>...</td>\n",
       "      <td>NaN</td>\n",
       "      <td>NaN</td>\n",
       "      <td>NaN</td>\n",
       "      <td>NaN</td>\n",
       "      <td>NaN</td>\n",
       "      <td>NaN</td>\n",
       "      <td>12.0</td>\n",
       "      <td>7.1</td>\n",
       "      <td>NaN</td>\n",
       "      <td>0</td>\n",
       "    </tr>\n",
       "  </tbody>\n",
       "</table>\n",
       "<p>5 rows × 55 columns</p>\n",
       "</div>"
      ],
      "text/plain": [
       "  color_x    director_name_x  num_critic_for_reviews_x  duration_x  \\\n",
       "0   Color      James Cameron                     723.0       178.0   \n",
       "1   Color     Gore Verbinski                     302.0       169.0   \n",
       "2   Color         Sam Mendes                     602.0       148.0   \n",
       "3   Color  Christopher Nolan                     813.0       164.0   \n",
       "4     NaN        Doug Walker                       NaN         NaN   \n",
       "\n",
       "   director_facebook_likes_x  actor_3_facebook_likes_x    actor_2_name_x  \\\n",
       "0                        0.0                     855.0  Joel David Moore   \n",
       "1                      563.0                    1000.0     Orlando Bloom   \n",
       "2                        0.0                     161.0      Rory Kinnear   \n",
       "3                    22000.0                   23000.0    Christian Bale   \n",
       "4                      131.0                       NaN        Rob Walker   \n",
       "\n",
       "   actor_1_facebook_likes_x      gross_x                         genres_x  \\\n",
       "0                    1000.0  760505847.0  Action|Adventure|Fantasy|Sci-Fi   \n",
       "1                   40000.0  309404152.0         Action|Adventure|Fantasy   \n",
       "2                   11000.0  200074175.0        Action|Adventure|Thriller   \n",
       "3                   27000.0  448130642.0                  Action|Thriller   \n",
       "4                     131.0          NaN                      Documentary   \n",
       "\n",
       "   ... num_user_for_reviews_y language_y  country_y  content_rating_y  \\\n",
       "0  ...                 3054.0    English        USA             PG-13   \n",
       "1  ...                 1238.0    English        USA             PG-13   \n",
       "2  ...                  994.0    English         UK             PG-13   \n",
       "3  ...                 2701.0    English        USA             PG-13   \n",
       "4  ...                    NaN        NaN        NaN               NaN   \n",
       "\n",
       "      budget_y  title_year_y actor_2_facebook_likes_y imdb_score_y  \\\n",
       "0  237000000.0        2009.0                    936.0          7.9   \n",
       "1  300000000.0        2007.0                   5000.0          7.1   \n",
       "2  245000000.0        2015.0                    393.0          6.8   \n",
       "3  250000000.0        2012.0                  23000.0          8.5   \n",
       "4          NaN           NaN                     12.0          7.1   \n",
       "\n",
       "   aspect_ratio_y movie_facebook_likes_y  \n",
       "0            1.78                  33000  \n",
       "1            2.35                      0  \n",
       "2            2.35                  85000  \n",
       "3            2.35                 164000  \n",
       "4             NaN                      0  \n",
       "\n",
       "[5 rows x 55 columns]"
      ]
     },
     "execution_count": 8,
     "metadata": {},
     "output_type": "execute_result"
    }
   ],
   "source": [
    "imdb_df.head()"
   ]
  },
  {
   "cell_type": "code",
   "execution_count": 9,
   "id": "32a74235-5180-4943-9297-4bf68a685ffd",
   "metadata": {},
   "outputs": [
    {
     "name": "stdout",
     "output_type": "stream",
     "text": [
      "<class 'pandas.core.frame.DataFrame'>\n",
      "RangeIndex: 5309 entries, 0 to 5308\n",
      "Data columns (total 55 columns):\n",
      " #   Column                       Non-Null Count  Dtype  \n",
      "---  ------                       --------------  -----  \n",
      " 0   color_x                      5290 non-null   object \n",
      " 1   director_name_x              5201 non-null   object \n",
      " 2   num_critic_for_reviews_x     5257 non-null   float64\n",
      " 3   duration_x                   5294 non-null   float64\n",
      " 4   director_facebook_likes_x    5201 non-null   float64\n",
      " 5   actor_3_facebook_likes_x     5286 non-null   float64\n",
      " 6   actor_2_name_x               5296 non-null   object \n",
      " 7   actor_1_facebook_likes_x     5302 non-null   float64\n",
      " 8   gross_x                      4380 non-null   float64\n",
      " 9   genres_x                     5309 non-null   object \n",
      " 10  actor_1_name_x               5302 non-null   object \n",
      " 11  movie_title                  5309 non-null   object \n",
      " 12  num_voted_users_x            5309 non-null   int64  \n",
      " 13  cast_total_facebook_likes_x  5309 non-null   int64  \n",
      " 14  actor_3_name_x               5286 non-null   object \n",
      " 15  facenumber_in_poster_x       5296 non-null   float64\n",
      " 16  plot_keywords_x              5152 non-null   object \n",
      " 17  movie_imdb_link_x            5309 non-null   object \n",
      " 18  num_user_for_reviews_x       5288 non-null   float64\n",
      " 19  language_x                   5295 non-null   object \n",
      " 20  country_x                    5304 non-null   object \n",
      " 21  content_rating_x             5001 non-null   object \n",
      " 22  budget_x                     4800 non-null   float64\n",
      " 23  title_year_x                 5197 non-null   float64\n",
      " 24  actor_2_facebook_likes_x     5296 non-null   float64\n",
      " 25  imdb_score_x                 5309 non-null   float64\n",
      " 26  aspect_ratio_x               4974 non-null   float64\n",
      " 27  movie_facebook_likes_x       5309 non-null   int64  \n",
      " 28  color_y                      5290 non-null   object \n",
      " 29  director_name_y              5201 non-null   object \n",
      " 30  num_critic_for_reviews_y     5257 non-null   float64\n",
      " 31  duration_y                   5294 non-null   float64\n",
      " 32  director_facebook_likes_y    5201 non-null   float64\n",
      " 33  actor_3_facebook_likes_y     5286 non-null   float64\n",
      " 34  actor_2_name_y               5296 non-null   object \n",
      " 35  actor_1_facebook_likes_y     5302 non-null   float64\n",
      " 36  gross_y                      4380 non-null   float64\n",
      " 37  genres_y                     5309 non-null   object \n",
      " 38  actor_1_name_y               5302 non-null   object \n",
      " 39  num_voted_users_y            5309 non-null   int64  \n",
      " 40  cast_total_facebook_likes_y  5309 non-null   int64  \n",
      " 41  actor_3_name_y               5286 non-null   object \n",
      " 42  facenumber_in_poster_y       5296 non-null   float64\n",
      " 43  plot_keywords_y              5152 non-null   object \n",
      " 44  movie_imdb_link_y            5309 non-null   object \n",
      " 45  num_user_for_reviews_y       5288 non-null   float64\n",
      " 46  language_y                   5295 non-null   object \n",
      " 47  country_y                    5304 non-null   object \n",
      " 48  content_rating_y             5001 non-null   object \n",
      " 49  budget_y                     4800 non-null   float64\n",
      " 50  title_year_y                 5197 non-null   float64\n",
      " 51  actor_2_facebook_likes_y     5296 non-null   float64\n",
      " 52  imdb_score_y                 5309 non-null   float64\n",
      " 53  aspect_ratio_y               4974 non-null   float64\n",
      " 54  movie_facebook_likes_y       5309 non-null   int64  \n",
      "dtypes: float64(26), int64(6), object(23)\n",
      "memory usage: 2.2+ MB\n"
     ]
    }
   ],
   "source": [
    "imdb_df.info()"
   ]
  },
  {
   "cell_type": "code",
   "execution_count": 10,
   "id": "ca733782-a154-4a21-9bec-1cb5f86af6a6",
   "metadata": {},
   "outputs": [
    {
     "data": {
      "text/plain": [
       "Index(['color_x', 'director_name_x', 'num_critic_for_reviews_x', 'duration_x',\n",
       "       'director_facebook_likes_x', 'actor_3_facebook_likes_x',\n",
       "       'actor_2_name_x', 'actor_1_facebook_likes_x', 'gross_x', 'genres_x',\n",
       "       'actor_1_name_x', 'movie_title', 'num_voted_users_x',\n",
       "       'cast_total_facebook_likes_x', 'actor_3_name_x',\n",
       "       'facenumber_in_poster_x', 'plot_keywords_x', 'movie_imdb_link_x',\n",
       "       'num_user_for_reviews_x', 'language_x', 'country_x', 'content_rating_x',\n",
       "       'budget_x', 'title_year_x', 'actor_2_facebook_likes_x', 'imdb_score_x',\n",
       "       'aspect_ratio_x', 'movie_facebook_likes_x', 'color_y',\n",
       "       'director_name_y', 'num_critic_for_reviews_y', 'duration_y',\n",
       "       'director_facebook_likes_y', 'actor_3_facebook_likes_y',\n",
       "       'actor_2_name_y', 'actor_1_facebook_likes_y', 'gross_y', 'genres_y',\n",
       "       'actor_1_name_y', 'num_voted_users_y', 'cast_total_facebook_likes_y',\n",
       "       'actor_3_name_y', 'facenumber_in_poster_y', 'plot_keywords_y',\n",
       "       'movie_imdb_link_y', 'num_user_for_reviews_y', 'language_y',\n",
       "       'country_y', 'content_rating_y', 'budget_y', 'title_year_y',\n",
       "       'actor_2_facebook_likes_y', 'imdb_score_y', 'aspect_ratio_y',\n",
       "       'movie_facebook_likes_y'],\n",
       "      dtype='object')"
      ]
     },
     "execution_count": 10,
     "metadata": {},
     "output_type": "execute_result"
    }
   ],
   "source": [
    "imdb_df.columns"
   ]
  },
  {
   "cell_type": "code",
   "execution_count": 11,
   "id": "323d7685-1eb9-4268-a8a3-fa2384a6a8f2",
   "metadata": {},
   "outputs": [],
   "source": [
    "# imdb_df.title_year_y.value_counts(dropna=False).sort_index().plot(kind = 'barh', figsize = (15,16))\n",
    "# plt.show()"
   ]
  },
  {
   "cell_type": "code",
   "execution_count": 12,
   "id": "e0b1cd79-46af-4a6e-bc08-bd792b91801f",
   "metadata": {},
   "outputs": [],
   "source": [
    "#select which features to base the recommendation on\n",
    "imdb_df = imdb_df[['director_name_x','duration_x', 'genres_x', 'movie_title', 'plot_keywords_x','content_rating_x', 'imdb_score_x']]"
   ]
  },
  {
   "cell_type": "code",
   "execution_count": 13,
   "id": "d5a5c361-656b-4def-813c-120263e637b9",
   "metadata": {},
   "outputs": [
    {
     "data": {
      "text/html": [
       "<div>\n",
       "<style scoped>\n",
       "    .dataframe tbody tr th:only-of-type {\n",
       "        vertical-align: middle;\n",
       "    }\n",
       "\n",
       "    .dataframe tbody tr th {\n",
       "        vertical-align: top;\n",
       "    }\n",
       "\n",
       "    .dataframe thead th {\n",
       "        text-align: right;\n",
       "    }\n",
       "</style>\n",
       "<table border=\"1\" class=\"dataframe\">\n",
       "  <thead>\n",
       "    <tr style=\"text-align: right;\">\n",
       "      <th></th>\n",
       "      <th>director_name_x</th>\n",
       "      <th>duration_x</th>\n",
       "      <th>genres_x</th>\n",
       "      <th>movie_title</th>\n",
       "      <th>plot_keywords_x</th>\n",
       "      <th>content_rating_x</th>\n",
       "      <th>imdb_score_x</th>\n",
       "    </tr>\n",
       "  </thead>\n",
       "  <tbody>\n",
       "    <tr>\n",
       "      <th>0</th>\n",
       "      <td>James Cameron</td>\n",
       "      <td>178.0</td>\n",
       "      <td>Action|Adventure|Fantasy|Sci-Fi</td>\n",
       "      <td>Avatar</td>\n",
       "      <td>avatar|future|marine|native|paraplegic</td>\n",
       "      <td>PG-13</td>\n",
       "      <td>7.9</td>\n",
       "    </tr>\n",
       "    <tr>\n",
       "      <th>1</th>\n",
       "      <td>Gore Verbinski</td>\n",
       "      <td>169.0</td>\n",
       "      <td>Action|Adventure|Fantasy</td>\n",
       "      <td>Pirates of the Caribbean: At World's End</td>\n",
       "      <td>goddess|marriage ceremony|marriage proposal|pi...</td>\n",
       "      <td>PG-13</td>\n",
       "      <td>7.1</td>\n",
       "    </tr>\n",
       "    <tr>\n",
       "      <th>2</th>\n",
       "      <td>Sam Mendes</td>\n",
       "      <td>148.0</td>\n",
       "      <td>Action|Adventure|Thriller</td>\n",
       "      <td>Spectre</td>\n",
       "      <td>bomb|espionage|sequel|spy|terrorist</td>\n",
       "      <td>PG-13</td>\n",
       "      <td>6.8</td>\n",
       "    </tr>\n",
       "    <tr>\n",
       "      <th>3</th>\n",
       "      <td>Christopher Nolan</td>\n",
       "      <td>164.0</td>\n",
       "      <td>Action|Thriller</td>\n",
       "      <td>The Dark Knight Rises</td>\n",
       "      <td>deception|imprisonment|lawlessness|police offi...</td>\n",
       "      <td>PG-13</td>\n",
       "      <td>8.5</td>\n",
       "    </tr>\n",
       "    <tr>\n",
       "      <th>4</th>\n",
       "      <td>Doug Walker</td>\n",
       "      <td>NaN</td>\n",
       "      <td>Documentary</td>\n",
       "      <td>Star Wars: Episode VII - The Force Awakens    ...</td>\n",
       "      <td>NaN</td>\n",
       "      <td>NaN</td>\n",
       "      <td>7.1</td>\n",
       "    </tr>\n",
       "  </tbody>\n",
       "</table>\n",
       "</div>"
      ],
      "text/plain": [
       "     director_name_x  duration_x                         genres_x  \\\n",
       "0      James Cameron       178.0  Action|Adventure|Fantasy|Sci-Fi   \n",
       "1     Gore Verbinski       169.0         Action|Adventure|Fantasy   \n",
       "2         Sam Mendes       148.0        Action|Adventure|Thriller   \n",
       "3  Christopher Nolan       164.0                  Action|Thriller   \n",
       "4        Doug Walker         NaN                      Documentary   \n",
       "\n",
       "                                         movie_title  \\\n",
       "0                                            Avatar    \n",
       "1          Pirates of the Caribbean: At World's End    \n",
       "2                                           Spectre    \n",
       "3                             The Dark Knight Rises    \n",
       "4  Star Wars: Episode VII - The Force Awakens    ...   \n",
       "\n",
       "                                     plot_keywords_x content_rating_x  \\\n",
       "0             avatar|future|marine|native|paraplegic            PG-13   \n",
       "1  goddess|marriage ceremony|marriage proposal|pi...            PG-13   \n",
       "2                bomb|espionage|sequel|spy|terrorist            PG-13   \n",
       "3  deception|imprisonment|lawlessness|police offi...            PG-13   \n",
       "4                                                NaN              NaN   \n",
       "\n",
       "   imdb_score_x  \n",
       "0           7.9  \n",
       "1           7.1  \n",
       "2           6.8  \n",
       "3           8.5  \n",
       "4           7.1  "
      ]
     },
     "execution_count": 13,
     "metadata": {},
     "output_type": "execute_result"
    }
   ],
   "source": [
    "imdb_df.head()"
   ]
  },
  {
   "cell_type": "code",
   "execution_count": 14,
   "id": "c98a7c40-5575-49d0-9f4d-6dbbe43980e6",
   "metadata": {},
   "outputs": [],
   "source": [
    "imdb_df = imdb_df.loc[:,['director_name_x','duration_x', 'genres_x', 'movie_title', 'plot_keywords_x','content_rating_x', 'imdb_score_x']]"
   ]
  },
  {
   "cell_type": "code",
   "execution_count": 15,
   "id": "d45b83a9-9691-4966-9337-8af199176b23",
   "metadata": {},
   "outputs": [],
   "source": [
    "# imdb_df.head()"
   ]
  },
  {
   "cell_type": "code",
   "execution_count": 16,
   "id": "26923458-0a6b-4953-8487-b8a401214dcd",
   "metadata": {},
   "outputs": [
    {
     "name": "stdout",
     "output_type": "stream",
     "text": [
      "<class 'pandas.core.frame.DataFrame'>\n",
      "RangeIndex: 5309 entries, 0 to 5308\n",
      "Data columns (total 7 columns):\n",
      " #   Column            Non-Null Count  Dtype  \n",
      "---  ------            --------------  -----  \n",
      " 0   director_name_x   5201 non-null   object \n",
      " 1   duration_x        5294 non-null   float64\n",
      " 2   genres_x          5309 non-null   object \n",
      " 3   movie_title       5309 non-null   object \n",
      " 4   plot_keywords_x   5152 non-null   object \n",
      " 5   content_rating_x  5001 non-null   object \n",
      " 6   imdb_score_x      5309 non-null   float64\n",
      "dtypes: float64(2), object(5)\n",
      "memory usage: 290.5+ KB\n"
     ]
    }
   ],
   "source": [
    "imdb_df.info()"
   ]
  },
  {
   "cell_type": "code",
   "execution_count": 17,
   "id": "1002e332-cd52-4110-9de9-bd2288ee785b",
   "metadata": {},
   "outputs": [],
   "source": [
    "imdb_df['director_name_x'] = imdb_df['director_name_x'].replace(np.nan, 'unknown')"
   ]
  },
  {
   "cell_type": "code",
   "execution_count": 18,
   "id": "a6fe9f91-91b9-4dc0-9c6c-2f8b5571812b",
   "metadata": {},
   "outputs": [],
   "source": [
    "# imdb_df"
   ]
  },
  {
   "cell_type": "code",
   "execution_count": 19,
   "id": "9531ec96-42f1-47bd-886a-014d1dc0cacc",
   "metadata": {},
   "outputs": [
    {
     "data": {
      "text/plain": [
       "director_name_x       0\n",
       "duration_x           15\n",
       "genres_x              0\n",
       "movie_title           0\n",
       "plot_keywords_x     157\n",
       "content_rating_x    308\n",
       "imdb_score_x          0\n",
       "dtype: int64"
      ]
     },
     "execution_count": 19,
     "metadata": {},
     "output_type": "execute_result"
    }
   ],
   "source": [
    "imdb_df.isnull().sum()"
   ]
  },
  {
   "cell_type": "code",
   "execution_count": 20,
   "id": "71114aee-0130-45ca-ac2c-f39945624402",
   "metadata": {},
   "outputs": [],
   "source": [
    "imdb_df['duration_x'] = imdb_df['duration_x'].replace(np.nan, 'unknown')"
   ]
  },
  {
   "cell_type": "code",
   "execution_count": 21,
   "id": "2448a272-7d0e-4d57-923e-43c13eb6a2db",
   "metadata": {},
   "outputs": [
    {
     "data": {
      "text/plain": [
       "director_name_x       0\n",
       "duration_x            0\n",
       "genres_x              0\n",
       "movie_title           0\n",
       "plot_keywords_x     157\n",
       "content_rating_x    308\n",
       "imdb_score_x          0\n",
       "dtype: int64"
      ]
     },
     "execution_count": 21,
     "metadata": {},
     "output_type": "execute_result"
    }
   ],
   "source": [
    "imdb_df.isnull().sum()"
   ]
  },
  {
   "cell_type": "code",
   "execution_count": 22,
   "id": "88baf6ef-c4c6-48f3-8d0f-92e7018f1a4e",
   "metadata": {},
   "outputs": [],
   "source": [
    "imdb_df['plot_keywords_x'] = imdb_df['plot_keywords_x'].replace(np.nan, 'unknown')\n",
    "imdb_df['content_rating_x'] = imdb_df['content_rating_x'].replace(np.nan, 'unknown')"
   ]
  },
  {
   "cell_type": "code",
   "execution_count": 23,
   "id": "846b5cca-8e31-4b97-ae31-1bf013eac27a",
   "metadata": {},
   "outputs": [
    {
     "data": {
      "text/plain": [
       "director_name_x     0\n",
       "duration_x          0\n",
       "genres_x            0\n",
       "movie_title         0\n",
       "plot_keywords_x     0\n",
       "content_rating_x    0\n",
       "imdb_score_x        0\n",
       "dtype: int64"
      ]
     },
     "execution_count": 23,
     "metadata": {},
     "output_type": "execute_result"
    }
   ],
   "source": [
    "imdb_df.isnull().sum()"
   ]
  },
  {
   "cell_type": "code",
   "execution_count": 24,
   "id": "b4838714-7ca0-4ca2-aa11-c4d12627e635",
   "metadata": {},
   "outputs": [
    {
     "data": {
      "text/plain": [
       "388"
      ]
     },
     "execution_count": 24,
     "metadata": {},
     "output_type": "execute_result"
    }
   ],
   "source": [
    "imdb_df.duplicated().sum()"
   ]
  },
  {
   "cell_type": "code",
   "execution_count": 25,
   "id": "000df2cd-747c-4892-b1f9-5c1dd92812a5",
   "metadata": {},
   "outputs": [],
   "source": [
    "imdb_df['genres_x'] = imdb_df['genres_x'].str.replace('|', ' ')"
   ]
  },
  {
   "cell_type": "code",
   "execution_count": 26,
   "id": "2144935d-1bda-41da-afe4-59cd9a89e5ee",
   "metadata": {},
   "outputs": [
    {
     "data": {
      "text/html": [
       "<div>\n",
       "<style scoped>\n",
       "    .dataframe tbody tr th:only-of-type {\n",
       "        vertical-align: middle;\n",
       "    }\n",
       "\n",
       "    .dataframe tbody tr th {\n",
       "        vertical-align: top;\n",
       "    }\n",
       "\n",
       "    .dataframe thead th {\n",
       "        text-align: right;\n",
       "    }\n",
       "</style>\n",
       "<table border=\"1\" class=\"dataframe\">\n",
       "  <thead>\n",
       "    <tr style=\"text-align: right;\">\n",
       "      <th></th>\n",
       "      <th>director_name_x</th>\n",
       "      <th>duration_x</th>\n",
       "      <th>genres_x</th>\n",
       "      <th>movie_title</th>\n",
       "      <th>plot_keywords_x</th>\n",
       "      <th>content_rating_x</th>\n",
       "      <th>imdb_score_x</th>\n",
       "    </tr>\n",
       "  </thead>\n",
       "  <tbody>\n",
       "    <tr>\n",
       "      <th>0</th>\n",
       "      <td>James Cameron</td>\n",
       "      <td>178.0</td>\n",
       "      <td>Action Adventure Fantasy Sci-Fi</td>\n",
       "      <td>Avatar</td>\n",
       "      <td>avatar|future|marine|native|paraplegic</td>\n",
       "      <td>PG-13</td>\n",
       "      <td>7.9</td>\n",
       "    </tr>\n",
       "    <tr>\n",
       "      <th>1</th>\n",
       "      <td>Gore Verbinski</td>\n",
       "      <td>169.0</td>\n",
       "      <td>Action Adventure Fantasy</td>\n",
       "      <td>Pirates of the Caribbean: At World's End</td>\n",
       "      <td>goddess|marriage ceremony|marriage proposal|pi...</td>\n",
       "      <td>PG-13</td>\n",
       "      <td>7.1</td>\n",
       "    </tr>\n",
       "    <tr>\n",
       "      <th>2</th>\n",
       "      <td>Sam Mendes</td>\n",
       "      <td>148.0</td>\n",
       "      <td>Action Adventure Thriller</td>\n",
       "      <td>Spectre</td>\n",
       "      <td>bomb|espionage|sequel|spy|terrorist</td>\n",
       "      <td>PG-13</td>\n",
       "      <td>6.8</td>\n",
       "    </tr>\n",
       "    <tr>\n",
       "      <th>3</th>\n",
       "      <td>Christopher Nolan</td>\n",
       "      <td>164.0</td>\n",
       "      <td>Action Thriller</td>\n",
       "      <td>The Dark Knight Rises</td>\n",
       "      <td>deception|imprisonment|lawlessness|police offi...</td>\n",
       "      <td>PG-13</td>\n",
       "      <td>8.5</td>\n",
       "    </tr>\n",
       "    <tr>\n",
       "      <th>4</th>\n",
       "      <td>Doug Walker</td>\n",
       "      <td>unknown</td>\n",
       "      <td>Documentary</td>\n",
       "      <td>Star Wars: Episode VII - The Force Awakens    ...</td>\n",
       "      <td>unknown</td>\n",
       "      <td>unknown</td>\n",
       "      <td>7.1</td>\n",
       "    </tr>\n",
       "    <tr>\n",
       "      <th>5</th>\n",
       "      <td>Andrew Stanton</td>\n",
       "      <td>132.0</td>\n",
       "      <td>Action Adventure Sci-Fi</td>\n",
       "      <td>John Carter</td>\n",
       "      <td>alien|american civil war|male nipple|mars|prin...</td>\n",
       "      <td>PG-13</td>\n",
       "      <td>6.6</td>\n",
       "    </tr>\n",
       "    <tr>\n",
       "      <th>6</th>\n",
       "      <td>Sam Raimi</td>\n",
       "      <td>156.0</td>\n",
       "      <td>Action Adventure Romance</td>\n",
       "      <td>Spider-Man 3</td>\n",
       "      <td>sandman|spider man|symbiote|venom|villain</td>\n",
       "      <td>PG-13</td>\n",
       "      <td>6.2</td>\n",
       "    </tr>\n",
       "    <tr>\n",
       "      <th>7</th>\n",
       "      <td>Sam Raimi</td>\n",
       "      <td>156.0</td>\n",
       "      <td>Action Adventure Romance</td>\n",
       "      <td>Spider-Man 3</td>\n",
       "      <td>sandman|spider man|symbiote|venom|villain</td>\n",
       "      <td>PG-13</td>\n",
       "      <td>6.2</td>\n",
       "    </tr>\n",
       "    <tr>\n",
       "      <th>8</th>\n",
       "      <td>Nathan Greno</td>\n",
       "      <td>100.0</td>\n",
       "      <td>Adventure Animation Comedy Family Fantasy Musi...</td>\n",
       "      <td>Tangled</td>\n",
       "      <td>17th century|based on fairy tale|disney|flower...</td>\n",
       "      <td>PG</td>\n",
       "      <td>7.8</td>\n",
       "    </tr>\n",
       "    <tr>\n",
       "      <th>9</th>\n",
       "      <td>Joss Whedon</td>\n",
       "      <td>141.0</td>\n",
       "      <td>Action Adventure Sci-Fi</td>\n",
       "      <td>Avengers: Age of Ultron</td>\n",
       "      <td>artificial intelligence|based on comic book|ca...</td>\n",
       "      <td>PG-13</td>\n",
       "      <td>7.5</td>\n",
       "    </tr>\n",
       "  </tbody>\n",
       "</table>\n",
       "</div>"
      ],
      "text/plain": [
       "     director_name_x duration_x  \\\n",
       "0      James Cameron      178.0   \n",
       "1     Gore Verbinski      169.0   \n",
       "2         Sam Mendes      148.0   \n",
       "3  Christopher Nolan      164.0   \n",
       "4        Doug Walker    unknown   \n",
       "5     Andrew Stanton      132.0   \n",
       "6          Sam Raimi      156.0   \n",
       "7          Sam Raimi      156.0   \n",
       "8       Nathan Greno      100.0   \n",
       "9        Joss Whedon      141.0   \n",
       "\n",
       "                                            genres_x  \\\n",
       "0                    Action Adventure Fantasy Sci-Fi   \n",
       "1                           Action Adventure Fantasy   \n",
       "2                          Action Adventure Thriller   \n",
       "3                                    Action Thriller   \n",
       "4                                        Documentary   \n",
       "5                            Action Adventure Sci-Fi   \n",
       "6                           Action Adventure Romance   \n",
       "7                           Action Adventure Romance   \n",
       "8  Adventure Animation Comedy Family Fantasy Musi...   \n",
       "9                            Action Adventure Sci-Fi   \n",
       "\n",
       "                                         movie_title  \\\n",
       "0                                            Avatar    \n",
       "1          Pirates of the Caribbean: At World's End    \n",
       "2                                           Spectre    \n",
       "3                             The Dark Knight Rises    \n",
       "4  Star Wars: Episode VII - The Force Awakens    ...   \n",
       "5                                       John Carter    \n",
       "6                                      Spider-Man 3    \n",
       "7                                      Spider-Man 3    \n",
       "8                                           Tangled    \n",
       "9                           Avengers: Age of Ultron    \n",
       "\n",
       "                                     plot_keywords_x content_rating_x  \\\n",
       "0             avatar|future|marine|native|paraplegic            PG-13   \n",
       "1  goddess|marriage ceremony|marriage proposal|pi...            PG-13   \n",
       "2                bomb|espionage|sequel|spy|terrorist            PG-13   \n",
       "3  deception|imprisonment|lawlessness|police offi...            PG-13   \n",
       "4                                            unknown          unknown   \n",
       "5  alien|american civil war|male nipple|mars|prin...            PG-13   \n",
       "6          sandman|spider man|symbiote|venom|villain            PG-13   \n",
       "7          sandman|spider man|symbiote|venom|villain            PG-13   \n",
       "8  17th century|based on fairy tale|disney|flower...               PG   \n",
       "9  artificial intelligence|based on comic book|ca...            PG-13   \n",
       "\n",
       "   imdb_score_x  \n",
       "0           7.9  \n",
       "1           7.1  \n",
       "2           6.8  \n",
       "3           8.5  \n",
       "4           7.1  \n",
       "5           6.6  \n",
       "6           6.2  \n",
       "7           6.2  \n",
       "8           7.8  \n",
       "9           7.5  "
      ]
     },
     "execution_count": 26,
     "metadata": {},
     "output_type": "execute_result"
    }
   ],
   "source": [
    "imdb_df.head(10)"
   ]
  },
  {
   "cell_type": "code",
   "execution_count": 27,
   "id": "98a95d96-073f-4439-817d-d5ecb8af3994",
   "metadata": {},
   "outputs": [
    {
     "data": {
      "text/plain": [
       "'Action Adventure Fantasy Sci-Fi'"
      ]
     },
     "execution_count": 27,
     "metadata": {},
     "output_type": "execute_result"
    }
   ],
   "source": [
    "imdb_df.iloc[0].genres_x"
   ]
  },
  {
   "cell_type": "code",
   "execution_count": 28,
   "id": "d94e176d-a113-408f-b94d-2ef2f856c50c",
   "metadata": {},
   "outputs": [],
   "source": [
    "imdb_df['movie_title'] = imdb_df['movie_title'].str.lower()"
   ]
  },
  {
   "cell_type": "code",
   "execution_count": 29,
   "id": "7cc0cfa9-7fd6-4acd-ac61-26cbbe85e28e",
   "metadata": {},
   "outputs": [
    {
     "data": {
      "text/plain": [
       "\"pirates of the caribbean: at world's end\\xa0\""
      ]
     },
     "execution_count": 29,
     "metadata": {},
     "output_type": "execute_result"
    }
   ],
   "source": [
    "imdb_df['movie_title'][1]"
   ]
  },
  {
   "cell_type": "code",
   "execution_count": 30,
   "id": "5aba0f66-b158-4d69-b58e-854b8587cdb7",
   "metadata": {},
   "outputs": [],
   "source": [
    "imdb_df['movie_title'] = imdb_df['movie_title'].apply(lambda x : x[:-1])"
   ]
  },
  {
   "cell_type": "code",
   "execution_count": 31,
   "id": "a3b8f9ea-f074-4ec7-832b-be266fab03ed",
   "metadata": {},
   "outputs": [
    {
     "data": {
      "text/plain": [
       "\"pirates of the caribbean: at world's end\""
      ]
     },
     "execution_count": 31,
     "metadata": {},
     "output_type": "execute_result"
    }
   ],
   "source": [
    "imdb_df['movie_title'][1]"
   ]
  },
  {
   "cell_type": "code",
   "execution_count": 32,
   "id": "024e8a2d-05a7-4cea-b35e-faaf0f09b2f3",
   "metadata": {},
   "outputs": [
    {
     "data": {
      "text/html": [
       "<div>\n",
       "<style scoped>\n",
       "    .dataframe tbody tr th:only-of-type {\n",
       "        vertical-align: middle;\n",
       "    }\n",
       "\n",
       "    .dataframe tbody tr th {\n",
       "        vertical-align: top;\n",
       "    }\n",
       "\n",
       "    .dataframe thead th {\n",
       "        text-align: right;\n",
       "    }\n",
       "</style>\n",
       "<table border=\"1\" class=\"dataframe\">\n",
       "  <thead>\n",
       "    <tr style=\"text-align: right;\">\n",
       "      <th></th>\n",
       "      <th>director_name_x</th>\n",
       "      <th>duration_x</th>\n",
       "      <th>genres_x</th>\n",
       "      <th>movie_title</th>\n",
       "      <th>plot_keywords_x</th>\n",
       "      <th>content_rating_x</th>\n",
       "      <th>imdb_score_x</th>\n",
       "    </tr>\n",
       "  </thead>\n",
       "  <tbody>\n",
       "    <tr>\n",
       "      <th>0</th>\n",
       "      <td>James Cameron</td>\n",
       "      <td>178.0</td>\n",
       "      <td>Action Adventure Fantasy Sci-Fi</td>\n",
       "      <td>avatar</td>\n",
       "      <td>avatar|future|marine|native|paraplegic</td>\n",
       "      <td>PG-13</td>\n",
       "      <td>7.9</td>\n",
       "    </tr>\n",
       "    <tr>\n",
       "      <th>1</th>\n",
       "      <td>Gore Verbinski</td>\n",
       "      <td>169.0</td>\n",
       "      <td>Action Adventure Fantasy</td>\n",
       "      <td>pirates of the caribbean: at world's end</td>\n",
       "      <td>goddess|marriage ceremony|marriage proposal|pi...</td>\n",
       "      <td>PG-13</td>\n",
       "      <td>7.1</td>\n",
       "    </tr>\n",
       "    <tr>\n",
       "      <th>2</th>\n",
       "      <td>Sam Mendes</td>\n",
       "      <td>148.0</td>\n",
       "      <td>Action Adventure Thriller</td>\n",
       "      <td>spectre</td>\n",
       "      <td>bomb|espionage|sequel|spy|terrorist</td>\n",
       "      <td>PG-13</td>\n",
       "      <td>6.8</td>\n",
       "    </tr>\n",
       "    <tr>\n",
       "      <th>3</th>\n",
       "      <td>Christopher Nolan</td>\n",
       "      <td>164.0</td>\n",
       "      <td>Action Thriller</td>\n",
       "      <td>the dark knight rises</td>\n",
       "      <td>deception|imprisonment|lawlessness|police offi...</td>\n",
       "      <td>PG-13</td>\n",
       "      <td>8.5</td>\n",
       "    </tr>\n",
       "    <tr>\n",
       "      <th>4</th>\n",
       "      <td>Doug Walker</td>\n",
       "      <td>unknown</td>\n",
       "      <td>Documentary</td>\n",
       "      <td>star wars: episode vii - the force awakens    ...</td>\n",
       "      <td>unknown</td>\n",
       "      <td>unknown</td>\n",
       "      <td>7.1</td>\n",
       "    </tr>\n",
       "    <tr>\n",
       "      <th>...</th>\n",
       "      <td>...</td>\n",
       "      <td>...</td>\n",
       "      <td>...</td>\n",
       "      <td>...</td>\n",
       "      <td>...</td>\n",
       "      <td>...</td>\n",
       "      <td>...</td>\n",
       "    </tr>\n",
       "    <tr>\n",
       "      <th>5304</th>\n",
       "      <td>Scott Smith</td>\n",
       "      <td>87.0</td>\n",
       "      <td>Comedy Drama</td>\n",
       "      <td>signed sealed delivered</td>\n",
       "      <td>fraud|postal worker|prison|theft|trial</td>\n",
       "      <td>unknown</td>\n",
       "      <td>7.7</td>\n",
       "    </tr>\n",
       "    <tr>\n",
       "      <th>5305</th>\n",
       "      <td>unknown</td>\n",
       "      <td>43.0</td>\n",
       "      <td>Crime Drama Mystery Thriller</td>\n",
       "      <td>the following</td>\n",
       "      <td>cult|fbi|hideout|prison escape|serial killer</td>\n",
       "      <td>TV-14</td>\n",
       "      <td>7.5</td>\n",
       "    </tr>\n",
       "    <tr>\n",
       "      <th>5306</th>\n",
       "      <td>Benjamin Roberds</td>\n",
       "      <td>76.0</td>\n",
       "      <td>Drama Horror Thriller</td>\n",
       "      <td>a plague so pleasant</td>\n",
       "      <td>unknown</td>\n",
       "      <td>unknown</td>\n",
       "      <td>6.3</td>\n",
       "    </tr>\n",
       "    <tr>\n",
       "      <th>5307</th>\n",
       "      <td>Daniel Hsia</td>\n",
       "      <td>100.0</td>\n",
       "      <td>Comedy Drama Romance</td>\n",
       "      <td>shanghai calling</td>\n",
       "      <td>unknown</td>\n",
       "      <td>PG-13</td>\n",
       "      <td>6.3</td>\n",
       "    </tr>\n",
       "    <tr>\n",
       "      <th>5308</th>\n",
       "      <td>Jon Gunn</td>\n",
       "      <td>90.0</td>\n",
       "      <td>Documentary</td>\n",
       "      <td>my date with drew</td>\n",
       "      <td>actress name in title|crush|date|four word tit...</td>\n",
       "      <td>PG</td>\n",
       "      <td>6.6</td>\n",
       "    </tr>\n",
       "  </tbody>\n",
       "</table>\n",
       "<p>5309 rows × 7 columns</p>\n",
       "</div>"
      ],
      "text/plain": [
       "        director_name_x duration_x                         genres_x  \\\n",
       "0         James Cameron      178.0  Action Adventure Fantasy Sci-Fi   \n",
       "1        Gore Verbinski      169.0         Action Adventure Fantasy   \n",
       "2            Sam Mendes      148.0        Action Adventure Thriller   \n",
       "3     Christopher Nolan      164.0                  Action Thriller   \n",
       "4           Doug Walker    unknown                      Documentary   \n",
       "...                 ...        ...                              ...   \n",
       "5304        Scott Smith       87.0                     Comedy Drama   \n",
       "5305            unknown       43.0     Crime Drama Mystery Thriller   \n",
       "5306   Benjamin Roberds       76.0            Drama Horror Thriller   \n",
       "5307        Daniel Hsia      100.0             Comedy Drama Romance   \n",
       "5308           Jon Gunn       90.0                      Documentary   \n",
       "\n",
       "                                            movie_title  \\\n",
       "0                                                avatar   \n",
       "1              pirates of the caribbean: at world's end   \n",
       "2                                               spectre   \n",
       "3                                 the dark knight rises   \n",
       "4     star wars: episode vii - the force awakens    ...   \n",
       "...                                                 ...   \n",
       "5304                            signed sealed delivered   \n",
       "5305                          the following               \n",
       "5306                               a plague so pleasant   \n",
       "5307                                   shanghai calling   \n",
       "5308                                  my date with drew   \n",
       "\n",
       "                                        plot_keywords_x content_rating_x  \\\n",
       "0                avatar|future|marine|native|paraplegic            PG-13   \n",
       "1     goddess|marriage ceremony|marriage proposal|pi...            PG-13   \n",
       "2                   bomb|espionage|sequel|spy|terrorist            PG-13   \n",
       "3     deception|imprisonment|lawlessness|police offi...            PG-13   \n",
       "4                                               unknown          unknown   \n",
       "...                                                 ...              ...   \n",
       "5304             fraud|postal worker|prison|theft|trial          unknown   \n",
       "5305       cult|fbi|hideout|prison escape|serial killer            TV-14   \n",
       "5306                                            unknown          unknown   \n",
       "5307                                            unknown            PG-13   \n",
       "5308  actress name in title|crush|date|four word tit...               PG   \n",
       "\n",
       "      imdb_score_x  \n",
       "0              7.9  \n",
       "1              7.1  \n",
       "2              6.8  \n",
       "3              8.5  \n",
       "4              7.1  \n",
       "...            ...  \n",
       "5304           7.7  \n",
       "5305           7.5  \n",
       "5306           6.3  \n",
       "5307           6.3  \n",
       "5308           6.6  \n",
       "\n",
       "[5309 rows x 7 columns]"
      ]
     },
     "execution_count": 32,
     "metadata": {},
     "output_type": "execute_result"
    }
   ],
   "source": [
    "imdb_df"
   ]
  },
  {
   "cell_type": "code",
   "execution_count": 33,
   "id": "4eec2492-edaf-434e-b48d-39ac46e7200f",
   "metadata": {},
   "outputs": [],
   "source": [
    "imdb_df['tags'] = imdb_df['director_name_x'] + ' ' + imdb_df['genres_x'] + ' ' + imdb_df['plot_keywords_x'] + ' ' + imdb_df['content_rating_x']"
   ]
  },
  {
   "cell_type": "code",
   "execution_count": 34,
   "id": "40d7fd7d-1cce-48f7-8f4c-692e0b8de99b",
   "metadata": {},
   "outputs": [
    {
     "data": {
      "text/html": [
       "<div>\n",
       "<style scoped>\n",
       "    .dataframe tbody tr th:only-of-type {\n",
       "        vertical-align: middle;\n",
       "    }\n",
       "\n",
       "    .dataframe tbody tr th {\n",
       "        vertical-align: top;\n",
       "    }\n",
       "\n",
       "    .dataframe thead th {\n",
       "        text-align: right;\n",
       "    }\n",
       "</style>\n",
       "<table border=\"1\" class=\"dataframe\">\n",
       "  <thead>\n",
       "    <tr style=\"text-align: right;\">\n",
       "      <th></th>\n",
       "      <th>director_name_x</th>\n",
       "      <th>duration_x</th>\n",
       "      <th>genres_x</th>\n",
       "      <th>movie_title</th>\n",
       "      <th>plot_keywords_x</th>\n",
       "      <th>content_rating_x</th>\n",
       "      <th>imdb_score_x</th>\n",
       "      <th>tags</th>\n",
       "    </tr>\n",
       "  </thead>\n",
       "  <tbody>\n",
       "    <tr>\n",
       "      <th>0</th>\n",
       "      <td>James Cameron</td>\n",
       "      <td>178.0</td>\n",
       "      <td>Action Adventure Fantasy Sci-Fi</td>\n",
       "      <td>avatar</td>\n",
       "      <td>avatar|future|marine|native|paraplegic</td>\n",
       "      <td>PG-13</td>\n",
       "      <td>7.9</td>\n",
       "      <td>James Cameron Action Adventure Fantasy Sci-Fi ...</td>\n",
       "    </tr>\n",
       "    <tr>\n",
       "      <th>1</th>\n",
       "      <td>Gore Verbinski</td>\n",
       "      <td>169.0</td>\n",
       "      <td>Action Adventure Fantasy</td>\n",
       "      <td>pirates of the caribbean: at world's end</td>\n",
       "      <td>goddess|marriage ceremony|marriage proposal|pi...</td>\n",
       "      <td>PG-13</td>\n",
       "      <td>7.1</td>\n",
       "      <td>Gore Verbinski Action Adventure Fantasy goddes...</td>\n",
       "    </tr>\n",
       "    <tr>\n",
       "      <th>2</th>\n",
       "      <td>Sam Mendes</td>\n",
       "      <td>148.0</td>\n",
       "      <td>Action Adventure Thriller</td>\n",
       "      <td>spectre</td>\n",
       "      <td>bomb|espionage|sequel|spy|terrorist</td>\n",
       "      <td>PG-13</td>\n",
       "      <td>6.8</td>\n",
       "      <td>Sam Mendes Action Adventure Thriller bomb|espi...</td>\n",
       "    </tr>\n",
       "    <tr>\n",
       "      <th>3</th>\n",
       "      <td>Christopher Nolan</td>\n",
       "      <td>164.0</td>\n",
       "      <td>Action Thriller</td>\n",
       "      <td>the dark knight rises</td>\n",
       "      <td>deception|imprisonment|lawlessness|police offi...</td>\n",
       "      <td>PG-13</td>\n",
       "      <td>8.5</td>\n",
       "      <td>Christopher Nolan Action Thriller deception|im...</td>\n",
       "    </tr>\n",
       "    <tr>\n",
       "      <th>4</th>\n",
       "      <td>Doug Walker</td>\n",
       "      <td>unknown</td>\n",
       "      <td>Documentary</td>\n",
       "      <td>star wars: episode vii - the force awakens    ...</td>\n",
       "      <td>unknown</td>\n",
       "      <td>unknown</td>\n",
       "      <td>7.1</td>\n",
       "      <td>Doug Walker Documentary unknown unknown</td>\n",
       "    </tr>\n",
       "    <tr>\n",
       "      <th>...</th>\n",
       "      <td>...</td>\n",
       "      <td>...</td>\n",
       "      <td>...</td>\n",
       "      <td>...</td>\n",
       "      <td>...</td>\n",
       "      <td>...</td>\n",
       "      <td>...</td>\n",
       "      <td>...</td>\n",
       "    </tr>\n",
       "    <tr>\n",
       "      <th>5304</th>\n",
       "      <td>Scott Smith</td>\n",
       "      <td>87.0</td>\n",
       "      <td>Comedy Drama</td>\n",
       "      <td>signed sealed delivered</td>\n",
       "      <td>fraud|postal worker|prison|theft|trial</td>\n",
       "      <td>unknown</td>\n",
       "      <td>7.7</td>\n",
       "      <td>Scott Smith Comedy Drama fraud|postal worker|p...</td>\n",
       "    </tr>\n",
       "    <tr>\n",
       "      <th>5305</th>\n",
       "      <td>unknown</td>\n",
       "      <td>43.0</td>\n",
       "      <td>Crime Drama Mystery Thriller</td>\n",
       "      <td>the following</td>\n",
       "      <td>cult|fbi|hideout|prison escape|serial killer</td>\n",
       "      <td>TV-14</td>\n",
       "      <td>7.5</td>\n",
       "      <td>unknown Crime Drama Mystery Thriller cult|fbi|...</td>\n",
       "    </tr>\n",
       "    <tr>\n",
       "      <th>5306</th>\n",
       "      <td>Benjamin Roberds</td>\n",
       "      <td>76.0</td>\n",
       "      <td>Drama Horror Thriller</td>\n",
       "      <td>a plague so pleasant</td>\n",
       "      <td>unknown</td>\n",
       "      <td>unknown</td>\n",
       "      <td>6.3</td>\n",
       "      <td>Benjamin Roberds Drama Horror Thriller unknown...</td>\n",
       "    </tr>\n",
       "    <tr>\n",
       "      <th>5307</th>\n",
       "      <td>Daniel Hsia</td>\n",
       "      <td>100.0</td>\n",
       "      <td>Comedy Drama Romance</td>\n",
       "      <td>shanghai calling</td>\n",
       "      <td>unknown</td>\n",
       "      <td>PG-13</td>\n",
       "      <td>6.3</td>\n",
       "      <td>Daniel Hsia Comedy Drama Romance unknown PG-13</td>\n",
       "    </tr>\n",
       "    <tr>\n",
       "      <th>5308</th>\n",
       "      <td>Jon Gunn</td>\n",
       "      <td>90.0</td>\n",
       "      <td>Documentary</td>\n",
       "      <td>my date with drew</td>\n",
       "      <td>actress name in title|crush|date|four word tit...</td>\n",
       "      <td>PG</td>\n",
       "      <td>6.6</td>\n",
       "      <td>Jon Gunn Documentary actress name in title|cru...</td>\n",
       "    </tr>\n",
       "  </tbody>\n",
       "</table>\n",
       "<p>5309 rows × 8 columns</p>\n",
       "</div>"
      ],
      "text/plain": [
       "        director_name_x duration_x                         genres_x  \\\n",
       "0         James Cameron      178.0  Action Adventure Fantasy Sci-Fi   \n",
       "1        Gore Verbinski      169.0         Action Adventure Fantasy   \n",
       "2            Sam Mendes      148.0        Action Adventure Thriller   \n",
       "3     Christopher Nolan      164.0                  Action Thriller   \n",
       "4           Doug Walker    unknown                      Documentary   \n",
       "...                 ...        ...                              ...   \n",
       "5304        Scott Smith       87.0                     Comedy Drama   \n",
       "5305            unknown       43.0     Crime Drama Mystery Thriller   \n",
       "5306   Benjamin Roberds       76.0            Drama Horror Thriller   \n",
       "5307        Daniel Hsia      100.0             Comedy Drama Romance   \n",
       "5308           Jon Gunn       90.0                      Documentary   \n",
       "\n",
       "                                            movie_title  \\\n",
       "0                                                avatar   \n",
       "1              pirates of the caribbean: at world's end   \n",
       "2                                               spectre   \n",
       "3                                 the dark knight rises   \n",
       "4     star wars: episode vii - the force awakens    ...   \n",
       "...                                                 ...   \n",
       "5304                            signed sealed delivered   \n",
       "5305                          the following               \n",
       "5306                               a plague so pleasant   \n",
       "5307                                   shanghai calling   \n",
       "5308                                  my date with drew   \n",
       "\n",
       "                                        plot_keywords_x content_rating_x  \\\n",
       "0                avatar|future|marine|native|paraplegic            PG-13   \n",
       "1     goddess|marriage ceremony|marriage proposal|pi...            PG-13   \n",
       "2                   bomb|espionage|sequel|spy|terrorist            PG-13   \n",
       "3     deception|imprisonment|lawlessness|police offi...            PG-13   \n",
       "4                                               unknown          unknown   \n",
       "...                                                 ...              ...   \n",
       "5304             fraud|postal worker|prison|theft|trial          unknown   \n",
       "5305       cult|fbi|hideout|prison escape|serial killer            TV-14   \n",
       "5306                                            unknown          unknown   \n",
       "5307                                            unknown            PG-13   \n",
       "5308  actress name in title|crush|date|four word tit...               PG   \n",
       "\n",
       "      imdb_score_x                                               tags  \n",
       "0              7.9  James Cameron Action Adventure Fantasy Sci-Fi ...  \n",
       "1              7.1  Gore Verbinski Action Adventure Fantasy goddes...  \n",
       "2              6.8  Sam Mendes Action Adventure Thriller bomb|espi...  \n",
       "3              8.5  Christopher Nolan Action Thriller deception|im...  \n",
       "4              7.1            Doug Walker Documentary unknown unknown  \n",
       "...            ...                                                ...  \n",
       "5304           7.7  Scott Smith Comedy Drama fraud|postal worker|p...  \n",
       "5305           7.5  unknown Crime Drama Mystery Thriller cult|fbi|...  \n",
       "5306           6.3  Benjamin Roberds Drama Horror Thriller unknown...  \n",
       "5307           6.3     Daniel Hsia Comedy Drama Romance unknown PG-13  \n",
       "5308           6.6  Jon Gunn Documentary actress name in title|cru...  \n",
       "\n",
       "[5309 rows x 8 columns]"
      ]
     },
     "execution_count": 34,
     "metadata": {},
     "output_type": "execute_result"
    }
   ],
   "source": [
    "imdb_df"
   ]
  },
  {
   "cell_type": "code",
   "execution_count": 35,
   "id": "f1ca02a1-ff9f-4369-9061-6e0d1e1649af",
   "metadata": {},
   "outputs": [],
   "source": [
    "imdb_df['duration_x'] = imdb_df['duration_x'].astype(str)\n",
    "imdb_df['imdb_score_x'] = imdb_df['imdb_score_x'].astype(str)\n",
    "\n",
    "new_imdb = imdb_df[['movie_title', 'duration_x', 'imdb_score_x', 'tags']]"
   ]
  },
  {
   "cell_type": "code",
   "execution_count": 36,
   "id": "39264ca7-4222-49d7-b8ea-163ea8a81431",
   "metadata": {},
   "outputs": [
    {
     "data": {
      "text/html": [
       "<div>\n",
       "<style scoped>\n",
       "    .dataframe tbody tr th:only-of-type {\n",
       "        vertical-align: middle;\n",
       "    }\n",
       "\n",
       "    .dataframe tbody tr th {\n",
       "        vertical-align: top;\n",
       "    }\n",
       "\n",
       "    .dataframe thead th {\n",
       "        text-align: right;\n",
       "    }\n",
       "</style>\n",
       "<table border=\"1\" class=\"dataframe\">\n",
       "  <thead>\n",
       "    <tr style=\"text-align: right;\">\n",
       "      <th></th>\n",
       "      <th>movie_title</th>\n",
       "      <th>duration_x</th>\n",
       "      <th>imdb_score_x</th>\n",
       "      <th>tags</th>\n",
       "    </tr>\n",
       "  </thead>\n",
       "  <tbody>\n",
       "    <tr>\n",
       "      <th>0</th>\n",
       "      <td>avatar</td>\n",
       "      <td>178.0</td>\n",
       "      <td>7.9</td>\n",
       "      <td>James Cameron Action Adventure Fantasy Sci-Fi ...</td>\n",
       "    </tr>\n",
       "    <tr>\n",
       "      <th>1</th>\n",
       "      <td>pirates of the caribbean: at world's end</td>\n",
       "      <td>169.0</td>\n",
       "      <td>7.1</td>\n",
       "      <td>Gore Verbinski Action Adventure Fantasy goddes...</td>\n",
       "    </tr>\n",
       "    <tr>\n",
       "      <th>2</th>\n",
       "      <td>spectre</td>\n",
       "      <td>148.0</td>\n",
       "      <td>6.8</td>\n",
       "      <td>Sam Mendes Action Adventure Thriller bomb|espi...</td>\n",
       "    </tr>\n",
       "    <tr>\n",
       "      <th>3</th>\n",
       "      <td>the dark knight rises</td>\n",
       "      <td>164.0</td>\n",
       "      <td>8.5</td>\n",
       "      <td>Christopher Nolan Action Thriller deception|im...</td>\n",
       "    </tr>\n",
       "    <tr>\n",
       "      <th>4</th>\n",
       "      <td>star wars: episode vii - the force awakens    ...</td>\n",
       "      <td>unknown</td>\n",
       "      <td>7.1</td>\n",
       "      <td>Doug Walker Documentary unknown unknown</td>\n",
       "    </tr>\n",
       "    <tr>\n",
       "      <th>...</th>\n",
       "      <td>...</td>\n",
       "      <td>...</td>\n",
       "      <td>...</td>\n",
       "      <td>...</td>\n",
       "    </tr>\n",
       "    <tr>\n",
       "      <th>5304</th>\n",
       "      <td>signed sealed delivered</td>\n",
       "      <td>87.0</td>\n",
       "      <td>7.7</td>\n",
       "      <td>Scott Smith Comedy Drama fraud|postal worker|p...</td>\n",
       "    </tr>\n",
       "    <tr>\n",
       "      <th>5305</th>\n",
       "      <td>the following</td>\n",
       "      <td>43.0</td>\n",
       "      <td>7.5</td>\n",
       "      <td>unknown Crime Drama Mystery Thriller cult|fbi|...</td>\n",
       "    </tr>\n",
       "    <tr>\n",
       "      <th>5306</th>\n",
       "      <td>a plague so pleasant</td>\n",
       "      <td>76.0</td>\n",
       "      <td>6.3</td>\n",
       "      <td>Benjamin Roberds Drama Horror Thriller unknown...</td>\n",
       "    </tr>\n",
       "    <tr>\n",
       "      <th>5307</th>\n",
       "      <td>shanghai calling</td>\n",
       "      <td>100.0</td>\n",
       "      <td>6.3</td>\n",
       "      <td>Daniel Hsia Comedy Drama Romance unknown PG-13</td>\n",
       "    </tr>\n",
       "    <tr>\n",
       "      <th>5308</th>\n",
       "      <td>my date with drew</td>\n",
       "      <td>90.0</td>\n",
       "      <td>6.6</td>\n",
       "      <td>Jon Gunn Documentary actress name in title|cru...</td>\n",
       "    </tr>\n",
       "  </tbody>\n",
       "</table>\n",
       "<p>5309 rows × 4 columns</p>\n",
       "</div>"
      ],
      "text/plain": [
       "                                            movie_title duration_x  \\\n",
       "0                                                avatar      178.0   \n",
       "1              pirates of the caribbean: at world's end      169.0   \n",
       "2                                               spectre      148.0   \n",
       "3                                 the dark knight rises      164.0   \n",
       "4     star wars: episode vii - the force awakens    ...    unknown   \n",
       "...                                                 ...        ...   \n",
       "5304                            signed sealed delivered       87.0   \n",
       "5305                          the following                   43.0   \n",
       "5306                               a plague so pleasant       76.0   \n",
       "5307                                   shanghai calling      100.0   \n",
       "5308                                  my date with drew       90.0   \n",
       "\n",
       "     imdb_score_x                                               tags  \n",
       "0             7.9  James Cameron Action Adventure Fantasy Sci-Fi ...  \n",
       "1             7.1  Gore Verbinski Action Adventure Fantasy goddes...  \n",
       "2             6.8  Sam Mendes Action Adventure Thriller bomb|espi...  \n",
       "3             8.5  Christopher Nolan Action Thriller deception|im...  \n",
       "4             7.1            Doug Walker Documentary unknown unknown  \n",
       "...           ...                                                ...  \n",
       "5304          7.7  Scott Smith Comedy Drama fraud|postal worker|p...  \n",
       "5305          7.5  unknown Crime Drama Mystery Thriller cult|fbi|...  \n",
       "5306          6.3  Benjamin Roberds Drama Horror Thriller unknown...  \n",
       "5307          6.3     Daniel Hsia Comedy Drama Romance unknown PG-13  \n",
       "5308          6.6  Jon Gunn Documentary actress name in title|cru...  \n",
       "\n",
       "[5309 rows x 4 columns]"
      ]
     },
     "execution_count": 36,
     "metadata": {},
     "output_type": "execute_result"
    }
   ],
   "source": [
    "new_imdb"
   ]
  },
  {
   "cell_type": "code",
   "execution_count": 37,
   "id": "d60bcdc3-e440-46ab-8b07-3ed1f2d4f001",
   "metadata": {},
   "outputs": [
    {
     "data": {
      "text/plain": [
       "'Gore Verbinski Action Adventure Fantasy goddess|marriage ceremony|marriage proposal|pirate|singapore PG-13'"
      ]
     },
     "execution_count": 37,
     "metadata": {},
     "output_type": "execute_result"
    }
   ],
   "source": [
    "new_imdb['tags'][1]"
   ]
  },
  {
   "cell_type": "code",
   "execution_count": 38,
   "id": "70db8795-1529-443c-bb9d-a6a96216ef67",
   "metadata": {},
   "outputs": [
    {
     "name": "stderr",
     "output_type": "stream",
     "text": [
      "/tmp/ipykernel_12702/2746013006.py:1: SettingWithCopyWarning: \n",
      "A value is trying to be set on a copy of a slice from a DataFrame.\n",
      "Try using .loc[row_indexer,col_indexer] = value instead\n",
      "\n",
      "See the caveats in the documentation: https://pandas.pydata.org/pandas-docs/stable/user_guide/indexing.html#returning-a-view-versus-a-copy\n",
      "  new_imdb['tags'] = new_imdb['tags'].str.replace('|' , ' ')\n"
     ]
    }
   ],
   "source": [
    "new_imdb['tags'] = new_imdb['tags'].str.replace('|' , ' ')"
   ]
  },
  {
   "cell_type": "code",
   "execution_count": 39,
   "id": "b473357b-1f91-4bd3-bf41-2d8cad972974",
   "metadata": {},
   "outputs": [
    {
     "data": {
      "text/plain": [
       "'Gore Verbinski Action Adventure Fantasy goddess marriage ceremony marriage proposal pirate singapore PG-13'"
      ]
     },
     "execution_count": 39,
     "metadata": {},
     "output_type": "execute_result"
    }
   ],
   "source": [
    "new_imdb['tags'][1]"
   ]
  },
  {
   "cell_type": "code",
   "execution_count": 40,
   "id": "d806c295-25c8-493e-a4d6-f35e93974d66",
   "metadata": {},
   "outputs": [
    {
     "name": "stderr",
     "output_type": "stream",
     "text": [
      "/tmp/ipykernel_12702/2474144853.py:1: SettingWithCopyWarning: \n",
      "A value is trying to be set on a copy of a slice from a DataFrame.\n",
      "Try using .loc[row_indexer,col_indexer] = value instead\n",
      "\n",
      "See the caveats in the documentation: https://pandas.pydata.org/pandas-docs/stable/user_guide/indexing.html#returning-a-view-versus-a-copy\n",
      "  new_imdb['tags'] = new_imdb['tags'].apply(lambda X:X.lower())\n"
     ]
    }
   ],
   "source": [
    "new_imdb['tags'] = new_imdb['tags'].apply(lambda X:X.lower())"
   ]
  },
  {
   "cell_type": "code",
   "execution_count": 41,
   "id": "3dd22ec4-1b0c-4016-9a05-69ed7003991d",
   "metadata": {},
   "outputs": [
    {
     "data": {
      "text/html": [
       "<div>\n",
       "<style scoped>\n",
       "    .dataframe tbody tr th:only-of-type {\n",
       "        vertical-align: middle;\n",
       "    }\n",
       "\n",
       "    .dataframe tbody tr th {\n",
       "        vertical-align: top;\n",
       "    }\n",
       "\n",
       "    .dataframe thead th {\n",
       "        text-align: right;\n",
       "    }\n",
       "</style>\n",
       "<table border=\"1\" class=\"dataframe\">\n",
       "  <thead>\n",
       "    <tr style=\"text-align: right;\">\n",
       "      <th></th>\n",
       "      <th>movie_title</th>\n",
       "      <th>duration_x</th>\n",
       "      <th>imdb_score_x</th>\n",
       "      <th>tags</th>\n",
       "    </tr>\n",
       "  </thead>\n",
       "  <tbody>\n",
       "    <tr>\n",
       "      <th>0</th>\n",
       "      <td>avatar</td>\n",
       "      <td>178.0</td>\n",
       "      <td>7.9</td>\n",
       "      <td>james cameron action adventure fantasy sci-fi ...</td>\n",
       "    </tr>\n",
       "    <tr>\n",
       "      <th>1</th>\n",
       "      <td>pirates of the caribbean: at world's end</td>\n",
       "      <td>169.0</td>\n",
       "      <td>7.1</td>\n",
       "      <td>gore verbinski action adventure fantasy goddes...</td>\n",
       "    </tr>\n",
       "    <tr>\n",
       "      <th>2</th>\n",
       "      <td>spectre</td>\n",
       "      <td>148.0</td>\n",
       "      <td>6.8</td>\n",
       "      <td>sam mendes action adventure thriller bomb espi...</td>\n",
       "    </tr>\n",
       "    <tr>\n",
       "      <th>3</th>\n",
       "      <td>the dark knight rises</td>\n",
       "      <td>164.0</td>\n",
       "      <td>8.5</td>\n",
       "      <td>christopher nolan action thriller deception im...</td>\n",
       "    </tr>\n",
       "    <tr>\n",
       "      <th>4</th>\n",
       "      <td>star wars: episode vii - the force awakens    ...</td>\n",
       "      <td>unknown</td>\n",
       "      <td>7.1</td>\n",
       "      <td>doug walker documentary unknown unknown</td>\n",
       "    </tr>\n",
       "  </tbody>\n",
       "</table>\n",
       "</div>"
      ],
      "text/plain": [
       "                                         movie_title duration_x imdb_score_x  \\\n",
       "0                                             avatar      178.0          7.9   \n",
       "1           pirates of the caribbean: at world's end      169.0          7.1   \n",
       "2                                            spectre      148.0          6.8   \n",
       "3                              the dark knight rises      164.0          8.5   \n",
       "4  star wars: episode vii - the force awakens    ...    unknown          7.1   \n",
       "\n",
       "                                                tags  \n",
       "0  james cameron action adventure fantasy sci-fi ...  \n",
       "1  gore verbinski action adventure fantasy goddes...  \n",
       "2  sam mendes action adventure thriller bomb espi...  \n",
       "3  christopher nolan action thriller deception im...  \n",
       "4            doug walker documentary unknown unknown  "
      ]
     },
     "execution_count": 41,
     "metadata": {},
     "output_type": "execute_result"
    }
   ],
   "source": [
    "new_imdb.head()"
   ]
  },
  {
   "cell_type": "code",
   "execution_count": 42,
   "id": "b7cbe7b0-de7c-4399-a16b-5200ede1f7ad",
   "metadata": {},
   "outputs": [
    {
     "name": "stdout",
     "output_type": "stream",
     "text": [
      "Defaulting to user installation because normal site-packages is not writeable\n",
      "Requirement already satisfied: scikit-learn in /home/xelreg/.local/lib/python3.10/site-packages (1.4.2)\n",
      "Requirement already satisfied: numpy>=1.19.5 in /home/xelreg/.local/lib/python3.10/site-packages (from scikit-learn) (1.25.2)\n",
      "Requirement already satisfied: scipy>=1.6.0 in /home/xelreg/.local/lib/python3.10/site-packages (from scikit-learn) (1.13.0)\n",
      "Requirement already satisfied: joblib>=1.2.0 in /home/xelreg/.local/lib/python3.10/site-packages (from scikit-learn) (1.4.0)\n",
      "Requirement already satisfied: threadpoolctl>=2.0.0 in /home/xelreg/.local/lib/python3.10/site-packages (from scikit-learn) (3.4.0)\n",
      "Note: you may need to restart the kernel to use updated packages.\n"
     ]
    }
   ],
   "source": [
    "pip install -U scikit-learn"
   ]
  },
  {
   "cell_type": "code",
   "execution_count": 43,
   "id": "4ef72cad-342d-4c25-ac94-f2331d5df05c",
   "metadata": {},
   "outputs": [],
   "source": [
    "from sklearn.feature_extraction.text import CountVectorizer"
   ]
  },
  {
   "cell_type": "code",
   "execution_count": 44,
   "id": "95fdb96b-6595-43bf-b7b5-bdc4a9263056",
   "metadata": {},
   "outputs": [],
   "source": [
    "cv = CountVectorizer(max_features = 5000, stop_words = 'english')"
   ]
  },
  {
   "cell_type": "code",
   "execution_count": 45,
   "id": "2effab79-c6af-4212-aa52-98a3214f6fe0",
   "metadata": {},
   "outputs": [
    {
     "data": {
      "text/plain": [
       "(5309, 5000)"
      ]
     },
     "execution_count": 45,
     "metadata": {},
     "output_type": "execute_result"
    }
   ],
   "source": [
    "cv.fit_transform(new_imdb['tags']).toarray().shape"
   ]
  },
  {
   "cell_type": "code",
   "execution_count": 46,
   "id": "c1029999-1a48-49d0-8a4d-4a53c583a09c",
   "metadata": {},
   "outputs": [],
   "source": [
    "vectors = cv.fit_transform(new_imdb['tags']).toarray()"
   ]
  },
  {
   "cell_type": "code",
   "execution_count": 47,
   "id": "6062354f-90cd-4d9a-b180-0949c4403e4e",
   "metadata": {},
   "outputs": [
    {
     "data": {
      "text/plain": [
       "array([0, 0, 0, ..., 0, 0, 0])"
      ]
     },
     "execution_count": 47,
     "metadata": {},
     "output_type": "execute_result"
    }
   ],
   "source": [
    "vectors[0]"
   ]
  },
  {
   "cell_type": "code",
   "execution_count": 48,
   "id": "54f9800b-66c4-4438-a505-161d63ecb5d1",
   "metadata": {},
   "outputs": [],
   "source": [
    "feature_names = cv.get_feature_names_out()"
   ]
  },
  {
   "cell_type": "code",
   "execution_count": 49,
   "id": "0d5bc6cb-d3a2-4df4-aa20-088229ff99d2",
   "metadata": {},
   "outputs": [
    {
     "data": {
      "text/plain": [
       "array(['007', '11', '12', ..., 'éric', 'étienne', 'ôtomo'], dtype=object)"
      ]
     },
     "execution_count": 49,
     "metadata": {},
     "output_type": "execute_result"
    }
   ],
   "source": [
    "feature_names"
   ]
  },
  {
   "cell_type": "code",
   "execution_count": 50,
   "id": "cd7945ee-c30b-46ff-b95b-8be124b66e4e",
   "metadata": {
    "scrolled": true
   },
   "outputs": [],
   "source": [
    "# len(cv.get_feature_names()) Error:'CountVectorizer' object has no attribute 'get_feature_names'"
   ]
  },
  {
   "cell_type": "code",
   "execution_count": 51,
   "id": "009dbe35-b8df-4ea4-bca2-bc6c35fd7175",
   "metadata": {},
   "outputs": [
    {
     "name": "stdout",
     "output_type": "stream",
     "text": [
      "Defaulting to user installation because normal site-packages is not writeable\n",
      "Requirement already satisfied: nltk in /home/xelreg/.local/lib/python3.10/site-packages (3.8.1)\n",
      "Requirement already satisfied: click in /usr/lib/python3/dist-packages (from nltk) (8.0.3)\n",
      "Requirement already satisfied: joblib in /home/xelreg/.local/lib/python3.10/site-packages (from nltk) (1.4.0)\n",
      "Requirement already satisfied: regex>=2021.8.3 in /home/xelreg/.local/lib/python3.10/site-packages (from nltk) (2024.4.16)\n",
      "Requirement already satisfied: tqdm in /home/xelreg/.local/lib/python3.10/site-packages (from nltk) (4.66.1)\n",
      "Note: you may need to restart the kernel to use updated packages.\n"
     ]
    }
   ],
   "source": [
    "pip install nltk"
   ]
  },
  {
   "cell_type": "code",
   "execution_count": 52,
   "id": "444a9c4d-6590-4668-990a-b4a225f32f4d",
   "metadata": {},
   "outputs": [],
   "source": [
    "import nltk"
   ]
  },
  {
   "cell_type": "code",
   "execution_count": 53,
   "id": "2889a102-5a42-4a77-90e2-df450fbe34c3",
   "metadata": {},
   "outputs": [],
   "source": [
    "from nltk.stem.porter import PorterStemmer\n",
    "ps = PorterStemmer()"
   ]
  },
  {
   "cell_type": "code",
   "execution_count": 54,
   "id": "a42bb29c-c152-4420-a7c5-3341c3e3e1b5",
   "metadata": {},
   "outputs": [],
   "source": [
    "def stem(text):\n",
    "    y = []\n",
    "    for i in text.split():\n",
    "        y.append(ps.stem(i))\n",
    "    return ' '.join(y)"
   ]
  },
  {
   "cell_type": "code",
   "execution_count": 55,
   "id": "39982148-3248-4e84-b526-08c73498cc96",
   "metadata": {},
   "outputs": [
    {
     "name": "stderr",
     "output_type": "stream",
     "text": [
      "/tmp/ipykernel_12702/222595532.py:1: SettingWithCopyWarning: \n",
      "A value is trying to be set on a copy of a slice from a DataFrame.\n",
      "Try using .loc[row_indexer,col_indexer] = value instead\n",
      "\n",
      "See the caveats in the documentation: https://pandas.pydata.org/pandas-docs/stable/user_guide/indexing.html#returning-a-view-versus-a-copy\n",
      "  new_imdb['tags'] = new_imdb['tags'].apply(stem)\n"
     ]
    }
   ],
   "source": [
    "new_imdb['tags'] = new_imdb['tags'].apply(stem)"
   ]
  },
  {
   "cell_type": "code",
   "execution_count": 56,
   "id": "358178aa-55c3-4ab6-b679-57c1c19c59c2",
   "metadata": {},
   "outputs": [],
   "source": [
    "from sklearn.metrics.pairwise import cosine_similarity"
   ]
  },
  {
   "cell_type": "code",
   "execution_count": 57,
   "id": "3c580708-5191-413e-a689-e526c5e49ea2",
   "metadata": {},
   "outputs": [
    {
     "data": {
      "text/plain": [
       "(5309, 5309)"
      ]
     },
     "execution_count": 57,
     "metadata": {},
     "output_type": "execute_result"
    }
   ],
   "source": [
    "cosine_similarity(vectors).shape"
   ]
  },
  {
   "cell_type": "code",
   "execution_count": 58,
   "id": "59394d93-c9d9-4441-899e-32d0c6d8777d",
   "metadata": {},
   "outputs": [],
   "source": [
    "similarity = cosine_similarity(vectors)"
   ]
  },
  {
   "cell_type": "code",
   "execution_count": 59,
   "id": "04e47435-ad2a-41eb-8fe4-1a6368b9843d",
   "metadata": {},
   "outputs": [
    {
     "data": {
      "text/plain": [
       "array([1.        , 0.35805744, 0.32025631, ..., 0.        , 0.20965697,\n",
       "       0.07412493])"
      ]
     },
     "execution_count": 59,
     "metadata": {},
     "output_type": "execute_result"
    }
   ],
   "source": [
    "similarity[0]"
   ]
  },
  {
   "cell_type": "code",
   "execution_count": 60,
   "id": "01ca07da-b687-4594-b626-11b2538cb706",
   "metadata": {},
   "outputs": [
    {
     "data": {
      "text/plain": [
       "(5309,)"
      ]
     },
     "execution_count": 60,
     "metadata": {},
     "output_type": "execute_result"
    }
   ],
   "source": [
    "similarity[0].shape"
   ]
  },
  {
   "cell_type": "code",
   "execution_count": 61,
   "id": "89c6cac4-6299-485e-ace3-d963443b35f6",
   "metadata": {},
   "outputs": [
    {
     "data": {
      "text/plain": [
       "[(86, 0.5604485383178051),\n",
       " (3829, 0.5604485383178051),\n",
       " (52, 0.5384615384615385),\n",
       " (264, 0.5384615384615385),\n",
       " (1412, 0.5384615384615385)]"
      ]
     },
     "execution_count": 61,
     "metadata": {},
     "output_type": "execute_result"
    }
   ],
   "source": [
    "sorted(list(enumerate(similarity[0])), reverse=True, key=lambda x: x[1])[1:6]"
   ]
  },
  {
   "cell_type": "code",
   "execution_count": 62,
   "id": "7a753c07-c566-4805-9f79-f88edf462d00",
   "metadata": {},
   "outputs": [],
   "source": [
    "sorted_similarity = sorted(list(enumerate(similarity[0])), reverse=True, key=lambda x: x[1])[1:6]"
   ]
  },
  {
   "cell_type": "code",
   "execution_count": 82,
   "id": "d113d191-badd-49c9-9553-89467868c337",
   "metadata": {},
   "outputs": [],
   "source": [
    "def recommend(movie):\n",
    "    movie_index = new_imdb[new_imdb['movie_title'] == movie].index[0]\n",
    "    distance = similarity[movie_index]\n",
    "    movies_lst = sorted(list(enumerate(similarity[0])), reverse=True, key=lambda x: x[1])[1:6]\n",
    "\n",
    "    for i in movies_lst:\n",
    "        print(new_imdb.iloc[i[0]].movie_title)\n",
    "# def recommend(movie):\n",
    "#     movie_index = new_imdb[new_imdb['movie_title'] == movie].index\n",
    "#     if len(movie_index) > 0:\n",
    "#         movie_index = movie_index[0]\n",
    "#         distance = similarity[movie_index]\n",
    "#         movies_lst = sorted_similarity\n",
    "\n",
    "#         for i in movies_lst:\n",
    "#             print(new_imdb.iloc[i[0]].movie_title)\n",
    "#     else:\n",
    "#         print(\"Movie not found\")"
   ]
  },
  {
   "cell_type": "code",
   "execution_count": 83,
   "id": "f276ddae-e490-4127-a63b-e2e852bae72d",
   "metadata": {},
   "outputs": [
    {
     "name": "stdout",
     "output_type": "stream",
     "text": [
      "waterworld\n",
      "beastmaster 2: through the portal of time\n",
      "terminator salvation\n",
      "star wars: episode iii - revenge of the sith\n",
      "serenity\n"
     ]
    }
   ],
   "source": [
    "recommend('avatar')"
   ]
  },
  {
   "cell_type": "code",
   "execution_count": 84,
   "id": "46ab5e17-b0fd-4cef-b553-43ee45d789d9",
   "metadata": {},
   "outputs": [],
   "source": [
    "def recommend(movie):\n",
    "    movie_index = new_imdb[new_imdb['movie_title'] == movie].index\n",
    "    if len(movie_index) > 0:\n",
    "        movie_index = movie_index[0]\n",
    "        distance = similarity[movie_index]\n",
    "        movies_lst = sorted_similarity\n",
    "\n",
    "        for i in movies_lst:\n",
    "            print(new_imdb.iloc[i[0]].movie_title)\n",
    "    else:\n",
    "        print(\"Movie not found\")"
   ]
  },
  {
   "cell_type": "code",
   "execution_count": 85,
   "id": "c0fa5d62-7f55-4b98-83bd-19169c334661",
   "metadata": {},
   "outputs": [
    {
     "name": "stdout",
     "output_type": "stream",
     "text": [
      "waterworld\n",
      "beastmaster 2: through the portal of time\n",
      "terminator salvation\n",
      "star wars: episode iii - revenge of the sith\n",
      "serenity\n"
     ]
    }
   ],
   "source": [
    "recommend('avatar')"
   ]
  },
  {
   "cell_type": "code",
   "execution_count": 80,
   "id": "63cd50f5-4372-4f2f-a2be-dd8347f9f468",
   "metadata": {},
   "outputs": [
    {
     "name": "stdout",
     "output_type": "stream",
     "text": [
      "waterworld\n",
      "beastmaster 2: through the portal of time\n",
      "terminator salvation\n",
      "star wars: episode iii - revenge of the sith\n",
      "serenity\n"
     ]
    }
   ],
   "source": [
    "recommend('iron man')"
   ]
  },
  {
   "cell_type": "code",
   "execution_count": 81,
   "id": "c1de29a4-9e4f-408b-b8eb-1b33c897a318",
   "metadata": {},
   "outputs": [
    {
     "name": "stdout",
     "output_type": "stream",
     "text": [
      "waterworld\n",
      "beastmaster 2: through the portal of time\n",
      "terminator salvation\n",
      "star wars: episode iii - revenge of the sith\n",
      "serenity\n"
     ]
    }
   ],
   "source": [
    "recommend('shanghai calling')"
   ]
  },
  {
   "cell_type": "code",
   "execution_count": null,
   "id": "e4947661-d916-40ec-97f0-8da30d711fd3",
   "metadata": {},
   "outputs": [],
   "source": [
    "# problem, we get the same 5 movie titles"
   ]
  }
 ],
 "metadata": {
  "kernelspec": {
   "display_name": "Python 3 (ipykernel)",
   "language": "python",
   "name": "python3"
  },
  "language_info": {
   "codemirror_mode": {
    "name": "ipython",
    "version": 3
   },
   "file_extension": ".py",
   "mimetype": "text/x-python",
   "name": "python",
   "nbconvert_exporter": "python",
   "pygments_lexer": "ipython3",
   "version": "3.10.12"
  }
 },
 "nbformat": 4,
 "nbformat_minor": 5
}
